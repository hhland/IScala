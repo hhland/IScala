{
 "metadata": {
  "kernelspec": {
   "codemirror_mode": {
    "mode": "clike",
    "name": "text/x-scala"
   },
   "display_name": "IScala (Scala 2.11)",
   "language": "scala",
   "name": "iscala-2.11"
  },
  "name": "",
  "signature": "sha256:78cfe58be96d1a2082d067acbe1061d85f47d48c73dd097347a67e79b2b193f5"
 },
 "nbformat": 3,
 "nbformat_minor": 0,
 "worksheets": [
  {
   "cells": [
    {
     "cell_type": "code",
     "collapsed": false,
     "input": [
      "%libraryDependencies += \"com.scalatags\" %% \"scalatags\" % \"0.4.1\""
     ],
     "language": "python",
     "metadata": {},
     "outputs": [
      {
       "output_type": "stream",
       "stream": "stdout",
       "text": []
      },
      {
       "output_type": "stream",
       "stream": "stderr",
       "text": []
      }
     ],
     "prompt_number": 1
    },
    {
     "cell_type": "code",
     "collapsed": false,
     "input": [
      "%libraryDependencies += \"io.continuum.bokeh\" %% \"bokeh\" % \"0.2\""
     ],
     "language": "python",
     "metadata": {},
     "outputs": [
      {
       "output_type": "stream",
       "stream": "stdout",
       "text": []
      }
     ],
     "prompt_number": 2
    },
    {
     "cell_type": "code",
     "collapsed": false,
     "input": [
      "%libraryDependencies += \"org.jfree\" % \"jfreechart\" % \"1.0.19\""
     ],
     "language": "python",
     "metadata": {},
     "outputs": [
      {
       "output_type": "stream",
       "stream": "stdout",
       "text": []
      },
      {
       "output_type": "stream",
       "stream": "stderr",
       "text": []
      }
     ],
     "prompt_number": 3
    },
    {
     "cell_type": "code",
     "collapsed": false,
     "input": [
      "%update"
     ],
     "language": "python",
     "metadata": {},
     "outputs": [
      {
       "output_type": "stream",
       "stream": "stdout",
       "text": [
        "[info] Resolving com.scalatags#scalatags_2.10;0.4.1 ...\n"
       ]
      },
      {
       "output_type": "stream",
       "stream": "stdout",
       "text": [
        "[info] Resolving org.scala-lang#scala-library;2.10.4 ...\n",
        "[info] Resolving io.continuum.bokeh#bokeh_2.10;0.2 ...\n"
       ]
      },
      {
       "output_type": "stream",
       "stream": "stdout",
       "text": [
        "[info] Resolving io.continuum.bokeh#core_2.10;0.2 ...\n"
       ]
      },
      {
       "output_type": "stream",
       "stream": "stdout",
       "text": [
        "[info] Resolving org.scalamacros#quasiquotes_2.10;2.0.0 ...\n"
       ]
      },
      {
       "output_type": "stream",
       "stream": "stdout",
       "text": [
        "[info] Resolving org.scala-lang#scala-reflect;2.10.4 ...\n"
       ]
      },
      {
       "output_type": "stream",
       "stream": "stdout",
       "text": [
        "[info] Resolving com.typesafe.play#play-json_2.10;2.4.0-M1 ...\n"
       ]
      },
      {
       "output_type": "stream",
       "stream": "stdout",
       "text": [
        "[info] Resolving com.typesafe.play#play-iteratees_2.10;2.4.0-M1 ...\n"
       ]
      },
      {
       "output_type": "stream",
       "stream": "stdout",
       "text": [
        "[info] Resolving org.scala-stm#scala-stm_2.10;0.7 ...\n"
       ]
      },
      {
       "output_type": "stream",
       "stream": "stdout",
       "text": [
        "[info] Resolving com.typesafe#config;1.2.1 ...\n"
       ]
      },
      {
       "output_type": "stream",
       "stream": "stdout",
       "text": [
        "[info] Resolving com.typesafe.play#play-functional_2.10;2.4.0-M1 ...\n"
       ]
      },
      {
       "output_type": "stream",
       "stream": "stdout",
       "text": [
        "[info] Resolving com.typesafe.play#play-datacommons_2.10;2.4.0-M1 ...\n"
       ]
      },
      {
       "output_type": "stream",
       "stream": "stdout",
       "text": [
        "[info] Resolving joda-time#joda-time;2.3 ...\n"
       ]
      },
      {
       "output_type": "stream",
       "stream": "stdout",
       "text": [
        "[info] Resolving org.joda#joda-convert;1.6 ...\n"
       ]
      },
      {
       "output_type": "stream",
       "stream": "stdout",
       "text": [
        "[info] Resolving com.fasterxml.jackson.core#jackson-core;2.3.2 ...\n"
       ]
      },
      {
       "output_type": "stream",
       "stream": "stdout",
       "text": [
        "[info] Resolving com.fasterxml#oss-parent;12 ...\n"
       ]
      },
      {
       "output_type": "stream",
       "stream": "stdout",
       "text": [
        "[info] Resolving com.fasterxml.jackson.core#jackson-annotations;2.3.2 ...\n"
       ]
      },
      {
       "output_type": "stream",
       "stream": "stdout",
       "text": [
        "[info] Resolving com.fasterxml#oss-parent;11 ...\n"
       ]
      },
      {
       "output_type": "stream",
       "stream": "stdout",
       "text": [
        "[info] Resolving com.fasterxml.jackson.core#jackson-databind;2.3.2 ...\n"
       ]
      },
      {
       "output_type": "stream",
       "stream": "stdout",
       "text": [
        "[info] Resolving com.fasterxml#oss-parent;12 ...\n"
       ]
      },
      {
       "output_type": "stream",
       "stream": "stdout",
       "text": [
        "[info] Resolving io.continuum.bokeh#bokehjs_2.10;0.2 ...\n"
       ]
      },
      {
       "output_type": "stream",
       "stream": "stdout",
       "text": [
        "[info] Resolving com.github.scala-incubator.io#scala-io-core_2.10;0.4.3 ...\n"
       ]
      },
      {
       "output_type": "stream",
       "stream": "stdout",
       "text": [
        "[info] Resolving com.jsuereth#scala-arm_2.10;1.3 ...\n"
       ]
      },
      {
       "output_type": "stream",
       "stream": "stdout",
       "text": [
        "[info] Resolving com.github.scala-incubator.io#scala-io-file_2.10;0.4.3 ...\n"
       ]
      },
      {
       "output_type": "stream",
       "stream": "stdout",
       "text": [
        "[info] Resolving org.scalanlp#breeze_2.10;0.8.1 ...\n"
       ]
      },
      {
       "output_type": "stream",
       "stream": "stdout",
       "text": [
        "[info] Resolving org.scalanlp#breeze-macros_2.10;0.3.1 ...\n"
       ]
      },
      {
       "output_type": "stream",
       "stream": "stdout",
       "text": [
        "[info] Resolving com.github.fommil.netlib#core;1.1.2 ...\n",
        "[info] Resolving net.sourceforge.f2j#arpack_combined_all;0.1 ...\n",
        "[info] Resolving net.sf.opencsv#opencsv;2.3 ...\n",
        "[info] Resolving com.github.rwl#jtransforms;2.4.0 ...\n",
        "[info] Resolving junit#junit;4.8.2 ...\n"
       ]
      },
      {
       "output_type": "stream",
       "stream": "stdout",
       "text": [
        "[info] Resolving org.apache.commons#commons-math3;3.2 ...\n",
        "[info] Resolving org.spire-math#spire_2.10;0.7.4 ...\n"
       ]
      },
      {
       "output_type": "stream",
       "stream": "stdout",
       "text": [
        "[info] Resolving org.spire-math#spire-macros_2.10;0.7.4 ...\n"
       ]
      },
      {
       "output_type": "stream",
       "stream": "stdout",
       "text": [
        "[info] Resolving com.typesafe.scala-logging#scala-logging-slf4j_2.10;2.1.2 ...\n"
       ]
      },
      {
       "output_type": "stream",
       "stream": "stdout",
       "text": [
        "[info] Resolving com.typesafe.scala-logging#scala-logging-api_2.10;2.1.2 ...\n"
       ]
      },
      {
       "output_type": "stream",
       "stream": "stdout",
       "text": [
        "[info] Resolving org.slf4j#slf4j-api;1.7.7 ...\n"
       ]
      },
      {
       "output_type": "stream",
       "stream": "stdout",
       "text": [
        "[info] Resolving org.slf4j#slf4j-parent;1.7.7 ...\n"
       ]
      },
      {
       "output_type": "stream",
       "stream": "stdout",
       "text": [
        "[info] Resolving org.jfree#jfreechart;1.0.19 ...\n"
       ]
      },
      {
       "output_type": "stream",
       "stream": "stdout",
       "text": [
        "[info] Resolving org.sonatype.oss#oss-parent;9 ...\n"
       ]
      },
      {
       "output_type": "stream",
       "stream": "stdout",
       "text": [
        "[info] Resolving org.jfree#jcommon;1.0.23 ...\n"
       ]
      },
      {
       "output_type": "stream",
       "stream": "stdout",
       "text": [
        "[info] Resolving org.sonatype.oss#oss-parent;9 ...\n",
        "[info] downloading https://oss.sonatype.org/content/repositories/releases/com/scalatags/scalatags_2.10/0.4.1/scalatags_2.10-0.4.1.jar ...\n"
       ]
      },
      {
       "output_type": "stream",
       "stream": "stdout",
       "text": [
        "[info] \t[SUCCESSFUL ] com.scalatags#scalatags_2.10;0.4.1!scalatags_2.10.jar (7762ms)\n",
        "[info] downloading https://oss.sonatype.org/content/repositories/releases/io/continuum/bokeh/bokeh_2.10/0.2/bokeh_2.10-0.2.jar ...\n"
       ]
      }
     ]
    },
    {
     "cell_type": "code",
     "collapsed": false,
     "input": [
      "<div style=\"color: red\">XXX</div>"
     ],
     "language": "python",
     "metadata": {},
     "outputs": []
    },
    {
     "cell_type": "code",
     "collapsed": false,
     "input": [
      "import scalatags.Text.all._"
     ],
     "language": "python",
     "metadata": {},
     "outputs": []
    },
    {
     "cell_type": "code",
     "collapsed": false,
     "input": [
      "div(style:=\"color: red\", \"XXX\")"
     ],
     "language": "python",
     "metadata": {},
     "outputs": []
    },
    {
     "cell_type": "code",
     "collapsed": false,
     "input": [
      "implicit val HTMLTypedTag = org.refptr.iscala.display.HTMLDisplay[scalatags.Text.TypedTag[String]](_.toString)"
     ],
     "language": "python",
     "metadata": {},
     "outputs": []
    },
    {
     "cell_type": "code",
     "collapsed": false,
     "input": [
      "div(style:=\"color: red\", \"XXX\")"
     ],
     "language": "python",
     "metadata": {},
     "outputs": []
    },
    {
     "cell_type": "code",
     "collapsed": false,
     "input": [
      "<table>\n",
      "  <tr>\n",
      "    <th>Header 1</th>\n",
      "    <th>Header 2</th>\n",
      "  </tr>\n",
      "  <tr>\n",
      "    <td>row 1, cell 1</td>\n",
      "    <td>row 1, cell 2</td>\n",
      "  </tr>\n",
      "  <tr>\n",
      "    <td>row 2, cell 1</td>\n",
      "    <td>row 2, cell 2</td>\n",
      "  </tr>\n",
      "</table>"
     ],
     "language": "python",
     "metadata": {},
     "outputs": []
    },
    {
     "cell_type": "code",
     "collapsed": false,
     "input": [
      "org.refptr.iscala.display.Math(\"\"\"F(k) = \\int_{-\\infty}^{\\infty} f(x) e^{2\\pi i k} dx\"\"\")"
     ],
     "language": "python",
     "metadata": {},
     "outputs": []
    },
    {
     "cell_type": "code",
     "collapsed": false,
     "input": [
      "org.refptr.iscala.display.Latex(\"\"\"\n",
      "\\begin{eqnarray}\n",
      "\\nabla \\times \\vec{\\mathbf{B}} -\\, \\frac1c\\, \\frac{\\partial\\vec{\\mathbf{E}}}{\\partial t} & = \\frac{4\\pi}{c}\\vec{\\mathbf{j}} \\\\\n",
      "\\nabla \\cdot \\vec{\\mathbf{E}} & = 4 \\pi \\rho \\\\\n",
      "\\nabla \\times \\vec{\\mathbf{E}}\\, +\\, \\frac1c\\, \\frac{\\partial\\vec{\\mathbf{B}}}{\\partial t} & = \\vec{\\mathbf{0}} \\\\\n",
      "\\nabla \\cdot \\vec{\\mathbf{B}} & = 0 \n",
      "\\end{eqnarray}\n",
      "\"\"\")"
     ],
     "language": "python",
     "metadata": {},
     "outputs": []
    },
    {
     "cell_type": "code",
     "collapsed": false,
     "input": [
      "org.refptr.iscala.display.ImageURL(\"http://scala-lang.org/resources/img/smooth-spiral.png\", 100, 200)"
     ],
     "language": "python",
     "metadata": {},
     "outputs": []
    },
    {
     "cell_type": "code",
     "collapsed": false,
     "input": [
      "org.refptr.iscala.display.YouTubeVideo(\"1j_HxD4iLn8\")"
     ],
     "language": "python",
     "metadata": {},
     "outputs": []
    },
    {
     "cell_type": "code",
     "collapsed": false,
     "input": [
      "Nil"
     ],
     "language": "python",
     "metadata": {},
     "outputs": []
    },
    {
     "cell_type": "code",
     "collapsed": false,
     "input": [
      "implicit val PlainNil = org.refptr.iscala.display.PlainDisplay[Nil.type](_ => \"Nil\")"
     ],
     "language": "python",
     "metadata": {},
     "outputs": []
    },
    {
     "cell_type": "code",
     "collapsed": false,
     "input": [
      "Nil"
     ],
     "language": "python",
     "metadata": {},
     "outputs": []
    },
    {
     "cell_type": "code",
     "collapsed": false,
     "input": [
      "implicit val PlainNil = org.refptr.iscala.display.PlainDisplay[Nil.type](_ => \"NIL\")"
     ],
     "language": "python",
     "metadata": {},
     "outputs": []
    },
    {
     "cell_type": "code",
     "collapsed": false,
     "input": [
      "Nil"
     ],
     "language": "python",
     "metadata": {},
     "outputs": []
    },
    {
     "cell_type": "code",
     "collapsed": false,
     "input": [
      "import io.continuum.bokeh._"
     ],
     "language": "python",
     "metadata": {},
     "outputs": []
    },
    {
     "cell_type": "code",
     "collapsed": false,
     "input": [
      "val resources = Resources.CDN"
     ],
     "language": "python",
     "metadata": {},
     "outputs": []
    },
    {
     "cell_type": "code",
     "collapsed": false,
     "input": [
      "implicit val HTMLPlot = org.refptr.iscala.display.HTMLDisplay[Plot, xml.NodeSeq] { plot =>\n",
      "    val context = new PlotContext().children(plot :: Nil)\n",
      "    val writer = new HTMLFileWriter(context :: Nil, Some(resources))\n",
      "    writer.renderPlots(writer.specs())\n",
      "}"
     ],
     "language": "python",
     "metadata": {},
     "outputs": []
    },
    {
     "cell_type": "code",
     "collapsed": false,
     "input": [
      "(resources.styles ++ resources.scripts): xml.NodeSeq"
     ],
     "language": "python",
     "metadata": {},
     "outputs": []
    },
    {
     "cell_type": "code",
     "collapsed": false,
     "input": [
      "import Tools._\n",
      "import math.{Pi=>pi,sin}\n",
      "\n",
      "val x = -2*pi to 2*pi by 0.1\n",
      "val y = x.map(sin)\n",
      "\n",
      "val source = new ColumnDataSource().addColumn('x, x).addColumn('y, y)\n",
      "\n",
      "val xdr = new DataRange1d().sources(source.columns('x) :: Nil)\n",
      "val ydr = new DataRange1d().sources(source.columns('y) :: Nil)\n",
      "\n",
      "val plot = new Plot().x_range(xdr).y_range(ydr).tools(Pan|WheelZoom)\n",
      "\n",
      "val xaxis = new LinearAxis().plot(plot).location(Location.Below)\n",
      "val yaxis = new LinearAxis().plot(plot).location(Location.Left)\n",
      "plot.below <<= (xaxis :: _)\n",
      "plot.left <<= (yaxis :: _)\n",
      "\n",
      "val circle = new Circle().x('x).y('y).size(5).fill_color(Color.Red).line_color(Color.Black)\n",
      "val glyph = new Glyph().data_source(source).glyph(circle)\n",
      "\n",
      "plot.renderers := List(xaxis, yaxis, glyph)"
     ],
     "language": "python",
     "metadata": {},
     "outputs": []
    },
    {
     "cell_type": "code",
     "collapsed": false,
     "input": [
      "plot"
     ],
     "language": "python",
     "metadata": {},
     "outputs": []
    },
    {
     "cell_type": "code",
     "collapsed": false,
     "input": [
      "import org.jfree.data.xy.{XYSeries,XYSeriesCollection}\n",
      "import org.jfree.chart.ChartFactory\n",
      "import math.{Pi=>pi,sin}\n",
      "\n",
      "val x = -2*pi to 2*pi by 0.1\n",
      "val y = x.map(sin)\n",
      "\n",
      "val series = new XYSeries(\"sin(x)\")\n",
      "(x zip y).foreach { case (x, y) => series.add(x, y) }\n",
      "\n",
      "val dataset = new XYSeriesCollection()\n",
      "dataset.addSeries(series)\n",
      "\n",
      "val chart = ChartFactory.createXYLineChart(\"y = sin(x)\", \"x\", \"y\", dataset)\n",
      "chart.createBufferedImage(500, 300)"
     ],
     "language": "python",
     "metadata": {},
     "outputs": []
    },
    {
     "cell_type": "code",
     "collapsed": false,
     "input": [
      "(0 to 50)"
     ],
     "language": "python",
     "metadata": {},
     "outputs": []
    },
    {
     "cell_type": "code",
     "collapsed": false,
     "input": [
      "!ls"
     ],
     "language": "python",
     "metadata": {},
     "outputs": [
      {
       "output_type": "stream",
       "stream": "stdout",
       "text": []
      },
      {
       "output_type": "stream",
       "stream": "stderr",
       "text": []
      },
      {
       "ename": "",
       "evalue": "",
       "output_type": "pyerr",
       "traceback": [
        "<console>:8: error: not found: value ls",
        "              !ls",
        "               ^"
       ]
      }
     ],
     "prompt_number": 1
    },
    {
     "cell_type": "code",
     "collapsed": false,
     "input": [],
     "language": "python",
     "metadata": {},
     "outputs": []
    }
   ],
   "metadata": {}
  }
 ]
}